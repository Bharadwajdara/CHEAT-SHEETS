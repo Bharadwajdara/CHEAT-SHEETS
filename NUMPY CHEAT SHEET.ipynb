{
 "cells": [
  {
   "cell_type": "markdown",
   "id": "091e5775",
   "metadata": {},
   "source": [
    "# Numpy\n",
    "\n",
    "The NumPy library is the core library for scientific computing in Python. It provides a  high-performance multidimensional array object, and tools for working with these arrays. "
   ]
  },
  {
   "cell_type": "markdown",
   "id": "51cca5c9",
   "metadata": {},
   "source": [
    "Use the following improt convention: # "
   ]
  },
  {
   "cell_type": "code",
   "execution_count": 1,
   "id": "6863b90b",
   "metadata": {},
   "outputs": [],
   "source": [
    "import numpy as np"
   ]
  },
  {
   "cell_type": "markdown",
   "id": "154587f7",
   "metadata": {},
   "source": [
    "# Numpy Arrays"
   ]
  },
  {
   "cell_type": "code",
   "execution_count": null,
   "id": "a2846e22",
   "metadata": {},
   "outputs": [],
   "source": []
  },
  {
   "cell_type": "code",
   "execution_count": null,
   "id": "f5a9fed3",
   "metadata": {},
   "outputs": [],
   "source": [
    "\n"
   ]
  },
  {
   "cell_type": "markdown",
   "id": "b66e39db",
   "metadata": {},
   "source": [
    "# Creating Arrays"
   ]
  },
  {
   "cell_type": "code",
   "execution_count": 2,
   "id": "f072c8af",
   "metadata": {},
   "outputs": [],
   "source": [
    "a = np.array([1,2,3])\n",
    "b = np.array([(1.5,2,3), (4,5,6)], dtype = float)\n",
    "c = np.array([[(1.5,2,3), (4,5,6)],[(3,2,1), (4,5,6)]], dtype = float)"
   ]
  },
  {
   "cell_type": "markdown",
   "id": "bceb4ac7",
   "metadata": {},
   "source": [
    "# Initial Placeholders# "
   ]
  },
  {
   "cell_type": "code",
   "execution_count": 3,
   "id": "e1ae6e6c",
   "metadata": {},
   "outputs": [
    {
     "data": {
      "text/plain": [
       "array([[1.39069238e-309, 1.39069238e-309],\n",
       "       [1.39069238e-309, 1.39069238e-309],\n",
       "       [1.39069238e-309, 1.39069238e-309]])"
      ]
     },
     "execution_count": 3,
     "metadata": {},
     "output_type": "execute_result"
    }
   ],
   "source": [
    "np.zeros((3,4)) #Create an array of zeros\n",
    "np.ones((2,3,4),dtype=np.int16) #Create an array of ones\n",
    "d = np.arange(10,25,5)#Create an array of evenly spaced values (step value)\n",
    "np.linspace(0,2,9) #Create an array of evenlyspaced values (number of samples)\n",
    "e = np.full((2,2),7)#Create a constant array\n",
    "f = np.eye(2) #Create a 2X2 identity matrix\n",
    "np.random.random((2,2)) #Create an array with random values\n",
    "np.empty((3,2)) #Create an empty array"
   ]
  },
  {
   "cell_type": "markdown",
   "id": "659e636f",
   "metadata": {},
   "source": [
    "# I/O \n",
    "Saving & Loading on Disk"
   ]
  },
  {
   "cell_type": "code",
   "execution_count": 4,
   "id": "b9e36487",
   "metadata": {},
   "outputs": [
    {
     "data": {
      "text/plain": [
       "array([1, 2, 3])"
      ]
     },
     "execution_count": 4,
     "metadata": {},
     "output_type": "execute_result"
    }
   ],
   "source": [
    "np.save('my_array' , a)\n",
    "np.savez( 'array.npz', a, b)\n",
    "np.load( 'my_array.npy')"
   ]
  },
  {
   "cell_type": "markdown",
   "id": "720ba65d",
   "metadata": {},
   "source": [
    "# Saving & Loading Text Files# "
   ]
  },
  {
   "cell_type": "code",
   "execution_count": null,
   "id": "24677167",
   "metadata": {},
   "outputs": [],
   "source": [
    "np.loadtxt(\"myfile.txt\")\n",
    "np.genfromtxt(\"my_file.csv\", delimiter= ',')\n",
    "np.savetxt( \"myarray.txt\", a, delimiter= \" \")"
   ]
  },
  {
   "cell_type": "markdown",
   "id": "e7e881aa",
   "metadata": {},
   "source": [
    "# Asking For Help"
   ]
  },
  {
   "cell_type": "code",
   "execution_count": 7,
   "id": "6fe60fef",
   "metadata": {},
   "outputs": [
    {
     "name": "stdout",
     "output_type": "stream",
     "text": [
      "Data-type of the array's elements.\n",
      "\n",
      "Parameters\n",
      "----------\n",
      "None\n",
      "\n",
      "Returns\n",
      "-------\n",
      "d : numpy dtype object\n",
      "\n",
      "See Also\n",
      "--------\n",
      "numpy.dtype\n",
      "\n",
      "Examples\n",
      "--------\n",
      ">>> x\n",
      "array([[0, 1],\n",
      "       [2, 3]])\n",
      ">>> x.dtype\n",
      "dtype('int32')\n",
      ">>> type(x.dtype)\n",
      "<type 'numpy.dtype'>\n"
     ]
    }
   ],
   "source": [
    "np.info(np.ndarray.dtype)"
   ]
  },
  {
   "cell_type": "markdown",
   "id": "5bed8da4",
   "metadata": {},
   "source": [
    "# Inspecting Your Array"
   ]
  },
  {
   "cell_type": "code",
   "execution_count": 10,
   "id": "95e4e3f1",
   "metadata": {},
   "outputs": [
    {
     "data": {
      "text/plain": [
       "array([[1, 2, 3],\n",
       "       [4, 5, 6]])"
      ]
     },
     "execution_count": 10,
     "metadata": {},
     "output_type": "execute_result"
    }
   ],
   "source": [
    "a.shape #Array dimensions\n",
    "len(a)#Length of array\n",
    "b.ndim #Number of array dimensions\n",
    "e.size #Number of array elements\n",
    "b.dtype  #Data type of array elements\n",
    "b.dtype.name  #Name of data type\n",
    "b.astype(int)#Convert an array to a different type"
   ]
  },
  {
   "cell_type": "markdown",
   "id": "130ba19c",
   "metadata": {},
   "source": [
    "# Data Types"
   ]
  },
  {
   "cell_type": "code",
   "execution_count": 16,
   "id": "6afdc4a3",
   "metadata": {
    "scrolled": false
   },
   "outputs": [
    {
     "name": "stderr",
     "output_type": "stream",
     "text": [
      "C:\\Users\\bhara\\AppData\\Local\\Temp/ipykernel_4132/3377278132.py:3: DeprecationWarning: `np.complex` is a deprecated alias for the builtin `complex`. To silence this warning, use `complex` by itself. Doing this will not modify any behavior and is safe. If you specifically wanted the numpy scalar type, use `np.complex128` here.\n",
      "Deprecated in NumPy 1.20; for more details and guidance: https://numpy.org/devdocs/release/1.20.0-notes.html#deprecations\n",
      "  np.complex #Complex numbers represented by 128 floats\n",
      "C:\\Users\\bhara\\AppData\\Local\\Temp/ipykernel_4132/3377278132.py:4: DeprecationWarning: `np.bool` is a deprecated alias for the builtin `bool`. To silence this warning, use `bool` by itself. Doing this will not modify any behavior and is safe. If you specifically wanted the numpy scalar type, use `np.bool_` here.\n",
      "Deprecated in NumPy 1.20; for more details and guidance: https://numpy.org/devdocs/release/1.20.0-notes.html#deprecations\n",
      "  np.bool  #Boolean type storing TRUE and FALSE values\n",
      "C:\\Users\\bhara\\AppData\\Local\\Temp/ipykernel_4132/3377278132.py:5: DeprecationWarning: `np.object` is a deprecated alias for the builtin `object`. To silence this warning, use `object` by itself. Doing this will not modify any behavior and is safe. \n",
      "Deprecated in NumPy 1.20; for more details and guidance: https://numpy.org/devdocs/release/1.20.0-notes.html#deprecations\n",
      "  np.object #Python object type\n"
     ]
    },
    {
     "data": {
      "text/plain": [
       "numpy.str_"
      ]
     },
     "execution_count": 16,
     "metadata": {},
     "output_type": "execute_result"
    }
   ],
   "source": [
    "np.int64 #Signed 64-bit integer types\n",
    "np.float32 #Standard double-precision floating point\n",
    "np.complex #Complex numbers represented by 128 floats\n",
    "np.bool  #Boolean type storing TRUE and FALSE values\n",
    "np.object #Python object type\n",
    "np.string_ #Fixed-length string type\n",
    "np.unicode_ #Fixed-length unicode type"
   ]
  },
  {
   "cell_type": "markdown",
   "id": "47c2d8f6",
   "metadata": {},
   "source": [
    "# Array Mathematics "
   ]
  },
  {
   "cell_type": "code",
   "execution_count": 54,
   "id": "d46ec753",
   "metadata": {},
   "outputs": [
    {
     "data": {
      "text/plain": [
       "array([[7., 7.],\n",
       "       [7., 7.]])"
      ]
     },
     "execution_count": 54,
     "metadata": {},
     "output_type": "execute_result"
    }
   ],
   "source": [
    "g = a - b #Subtraction\n",
    "np.subtract(a,b) #Subtraction\n",
    "b + a #Addition \n",
    "np.add(b,a) #Addition \n",
    "a/b #Division \n",
    "np.divide(a,b) #Division \n",
    "a * b #Multiplication \n",
    "np.multiply(a,b) #Multiplication \n",
    "np.exp(b) #Exponentiation\n",
    "np.sqrt(b) #Square root\n",
    "np.sin(a)  #Print sines of an array\n",
    "np.cos(b) #Elementwise cosine\n",
    "np.log(a)#Elementwise natural logarithm\n",
    "e.dot(f) #Dot product \n"
   ]
  },
  {
   "cell_type": "markdown",
   "id": "9c5ef939",
   "metadata": {},
   "source": [
    "# Comparison"
   ]
  },
  {
   "cell_type": "code",
   "execution_count": 25,
   "id": "84316058",
   "metadata": {},
   "outputs": [
    {
     "data": {
      "text/plain": [
       "array([[False,  True,  True],\n",
       "       [False, False, False]])"
      ]
     },
     "execution_count": 25,
     "metadata": {},
     "output_type": "execute_result"
    }
   ],
   "source": [
    ">>> a == b #Elementwise comparison\n"
   ]
  },
  {
   "cell_type": "code",
   "execution_count": 26,
   "id": "f1abd629",
   "metadata": {},
   "outputs": [
    {
     "data": {
      "text/plain": [
       "array([ True, False, False])"
      ]
     },
     "execution_count": 26,
     "metadata": {},
     "output_type": "execute_result"
    }
   ],
   "source": [
    "a< 2 #Elementwise comparison"
   ]
  },
  {
   "cell_type": "code",
   "execution_count": 27,
   "id": "bd49cb35",
   "metadata": {},
   "outputs": [
    {
     "data": {
      "text/plain": [
       "False"
      ]
     },
     "execution_count": 27,
     "metadata": {},
     "output_type": "execute_result"
    }
   ],
   "source": [
    "np.array_equal(a, b) #Arraywise comparison"
   ]
  },
  {
   "cell_type": "markdown",
   "id": "2d2bb507",
   "metadata": {},
   "source": [
    "# Copying Arrays"
   ]
  },
  {
   "cell_type": "code",
   "execution_count": 28,
   "id": "eed1d3f9",
   "metadata": {},
   "outputs": [],
   "source": [
    "h = a.view()#Create a view of the array with the same data\n",
    "np.copy(a) #Create a copy of the array\n",
    "h = a.copy() #Create a deep copy of the array"
   ]
  },
  {
   "cell_type": "markdown",
   "id": "55256a3e",
   "metadata": {},
   "source": [
    "# Sorting Arrays"
   ]
  },
  {
   "cell_type": "code",
   "execution_count": 29,
   "id": "fc003b4e",
   "metadata": {},
   "outputs": [],
   "source": [
    "a.sort() #Sort an array\n",
    "c.sort(axis=0) #Sort the elements of an array's axis"
   ]
  },
  {
   "cell_type": "markdown",
   "id": "c0152719",
   "metadata": {},
   "source": [
    "# Subsetting, Slicing, Indexing"
   ]
  },
  {
   "cell_type": "code",
   "execution_count": 30,
   "id": "7cf53768",
   "metadata": {},
   "outputs": [
    {
     "data": {
      "text/plain": [
       "3"
      ]
     },
     "execution_count": 30,
     "metadata": {},
     "output_type": "execute_result"
    }
   ],
   "source": [
    "a[2] #Select the element at the 2nd index"
   ]
  },
  {
   "cell_type": "code",
   "execution_count": 31,
   "id": "7706ce10",
   "metadata": {},
   "outputs": [
    {
     "data": {
      "text/plain": [
       "6.0"
      ]
     },
     "execution_count": 31,
     "metadata": {},
     "output_type": "execute_result"
    }
   ],
   "source": [
    "b[1,2] #Select the element at row 1 column 2(equivalent to b[1][2])"
   ]
  },
  {
   "cell_type": "markdown",
   "id": "6d563923",
   "metadata": {},
   "source": [
    "# Slicing"
   ]
  },
  {
   "cell_type": "code",
   "execution_count": 32,
   "id": "67f89516",
   "metadata": {},
   "outputs": [
    {
     "data": {
      "text/plain": [
       "array([1, 2])"
      ]
     },
     "execution_count": 32,
     "metadata": {},
     "output_type": "execute_result"
    }
   ],
   "source": [
    "a[0:2]#Select items at index 0 and 1"
   ]
  },
  {
   "cell_type": "code",
   "execution_count": 33,
   "id": "6a708a66",
   "metadata": {},
   "outputs": [
    {
     "data": {
      "text/plain": [
       "array([2., 5.])"
      ]
     },
     "execution_count": 33,
     "metadata": {},
     "output_type": "execute_result"
    }
   ],
   "source": [
    "b[0:2,1] #Select items at rows 0 and 1 in column 1"
   ]
  },
  {
   "cell_type": "code",
   "execution_count": 35,
   "id": "9b0db9a0",
   "metadata": {},
   "outputs": [
    {
     "data": {
      "text/plain": [
       "array([[1.5, 2. , 3. ]])"
      ]
     },
     "execution_count": 35,
     "metadata": {},
     "output_type": "execute_result"
    }
   ],
   "source": [
    "b[:1]"
   ]
  },
  {
   "cell_type": "code",
   "execution_count": 36,
   "id": "902dc90d",
   "metadata": {},
   "outputs": [
    {
     "data": {
      "text/plain": [
       "array([[3., 2., 3.],\n",
       "       [4., 5., 6.]])"
      ]
     },
     "execution_count": 36,
     "metadata": {},
     "output_type": "execute_result"
    }
   ],
   "source": [
    "c[1,...] #Same as[1,:,:]"
   ]
  },
  {
   "cell_type": "code",
   "execution_count": 37,
   "id": "9c552f82",
   "metadata": {},
   "outputs": [
    {
     "data": {
      "text/plain": [
       "array([3, 2, 1])"
      ]
     },
     "execution_count": 37,
     "metadata": {},
     "output_type": "execute_result"
    }
   ],
   "source": [
    "a[ : : -1] #Reversed array a array([3, 2, 1])"
   ]
  },
  {
   "cell_type": "markdown",
   "id": "a7c44380",
   "metadata": {},
   "source": [
    "# Boolean Indexing"
   ]
  },
  {
   "cell_type": "code",
   "execution_count": 38,
   "id": "92dc3529",
   "metadata": {},
   "outputs": [
    {
     "data": {
      "text/plain": [
       "array([1])"
      ]
     },
     "execution_count": 38,
     "metadata": {},
     "output_type": "execute_result"
    }
   ],
   "source": [
    "a[a<2] #Select elements from a less than 2"
   ]
  },
  {
   "cell_type": "markdown",
   "id": "de9c59b5",
   "metadata": {},
   "source": [
    "# Fancy Indexing "
   ]
  },
  {
   "cell_type": "code",
   "execution_count": 39,
   "id": "38b46a5b",
   "metadata": {},
   "outputs": [
    {
     "data": {
      "text/plain": [
       "array([4. , 2. , 6. , 1.5])"
      ]
     },
     "execution_count": 39,
     "metadata": {},
     "output_type": "execute_result"
    }
   ],
   "source": [
    "b[[1,0,1, 0],[0,1, 2, 0]] #Select elements(1,0),(0,1),(1,2) and(0,0)"
   ]
  },
  {
   "cell_type": "code",
   "execution_count": 40,
   "id": "02ff7506",
   "metadata": {},
   "outputs": [
    {
     "data": {
      "text/plain": [
       "array([[4. , 5. , 6. , 4. ],\n",
       "       [1.5, 2. , 3. , 1.5],\n",
       "       [4. , 5. , 6. , 4. ],\n",
       "       [1.5, 2. , 3. , 1.5]])"
      ]
     },
     "execution_count": 40,
     "metadata": {},
     "output_type": "execute_result"
    }
   ],
   "source": [
    "b[[1,0,1, 0]][:,[0,1,2,0]] #Select a subset of the matrix’s rows and columns"
   ]
  },
  {
   "cell_type": "markdown",
   "id": "9039e06b",
   "metadata": {},
   "source": [
    "# Array Manipulation \n",
    "Transposing Array "
   ]
  },
  {
   "cell_type": "code",
   "execution_count": 41,
   "id": "b3137f63",
   "metadata": {},
   "outputs": [
    {
     "data": {
      "text/plain": [
       "array([[1.5, 2. , 3. ],\n",
       "       [4. , 5. , 6. ]])"
      ]
     },
     "execution_count": 41,
     "metadata": {},
     "output_type": "execute_result"
    }
   ],
   "source": [
    "i = np.transpose(b) #Permute array dimensions\n",
    "i.T #Permute array dimensions"
   ]
  },
  {
   "cell_type": "markdown",
   "id": "49c7a113",
   "metadata": {},
   "source": [
    "# Changing Array Shape "
   ]
  },
  {
   "cell_type": "code",
   "execution_count": 42,
   "id": "ccb1d42c",
   "metadata": {},
   "outputs": [
    {
     "data": {
      "text/plain": [
       "array([[-0.5,  0. ],\n",
       "       [ 0. , -3. ],\n",
       "       [-3. , -3. ]])"
      ]
     },
     "execution_count": 42,
     "metadata": {},
     "output_type": "execute_result"
    }
   ],
   "source": [
    "b.ravel() #Flatten the array\n",
    "g.reshape(3, -2) #Reshape, but don’t change data"
   ]
  },
  {
   "cell_type": "markdown",
   "id": "b2e89057",
   "metadata": {},
   "source": [
    "# Adding/Removing Elements "
   ]
  },
  {
   "cell_type": "code",
   "execution_count": 43,
   "id": "2d3e740a",
   "metadata": {},
   "outputs": [
    {
     "data": {
      "text/plain": [
       "array([1, 3])"
      ]
     },
     "execution_count": 43,
     "metadata": {},
     "output_type": "execute_result"
    }
   ],
   "source": [
    "h.resize((2,6)) #Return a new arraywith shape(2,6)\n",
    "np.append(h,g) #Append items to an array\n",
    "np.insert(a,1,5)  #Insert items in an array\n",
    "np.delete(a,[1])  #Delete items from an array\n"
   ]
  },
  {
   "cell_type": "markdown",
   "id": "8cbc101f",
   "metadata": {},
   "source": [
    "# Combining Arrays \n",
    "\n"
   ]
  },
  {
   "cell_type": "code",
   "execution_count": 44,
   "id": "fe0dcf83",
   "metadata": {},
   "outputs": [
    {
     "data": {
      "text/plain": [
       "array([ 1,  2,  3, 10, 15, 20])"
      ]
     },
     "execution_count": 44,
     "metadata": {},
     "output_type": "execute_result"
    }
   ],
   "source": [
    "np.concatenate((a,d),axis=0) #Concatenate arrays"
   ]
  },
  {
   "cell_type": "code",
   "execution_count": 50,
   "id": "f2f12e30",
   "metadata": {},
   "outputs": [
    {
     "data": {
      "text/plain": [
       "array([[1. , 2. , 3. ],\n",
       "       [1.5, 2. , 3. ],\n",
       "       [4. , 5. , 6. ]])"
      ]
     },
     "execution_count": 50,
     "metadata": {},
     "output_type": "execute_result"
    }
   ],
   "source": [
    "np.vstack((a,b)) #Stack arrays vertically(row wise)"
   ]
  },
  {
   "cell_type": "code",
   "execution_count": 46,
   "id": "902a1c86",
   "metadata": {},
   "outputs": [
    {
     "data": {
      "text/plain": [
       "array([[7., 7.],\n",
       "       [7., 7.],\n",
       "       [1., 0.],\n",
       "       [0., 1.]])"
      ]
     },
     "execution_count": 46,
     "metadata": {},
     "output_type": "execute_result"
    }
   ],
   "source": [
    "np.r_[e,f] #Stack arrays vertically(row wise)"
   ]
  },
  {
   "cell_type": "code",
   "execution_count": 47,
   "id": "d1e08c94",
   "metadata": {},
   "outputs": [
    {
     "data": {
      "text/plain": [
       "array([[7., 7., 1., 0.],\n",
       "       [7., 7., 0., 1.]])"
      ]
     },
     "execution_count": 47,
     "metadata": {},
     "output_type": "execute_result"
    }
   ],
   "source": [
    "np.hstack((e,f)) #Stack arrays horizontally(column wise)"
   ]
  },
  {
   "cell_type": "code",
   "execution_count": 48,
   "id": "bcf66167",
   "metadata": {},
   "outputs": [
    {
     "data": {
      "text/plain": [
       "array([[ 1, 10],\n",
       "       [ 2, 15],\n",
       "       [ 3, 20]])"
      ]
     },
     "execution_count": 48,
     "metadata": {},
     "output_type": "execute_result"
    }
   ],
   "source": [
    "np.column_stack((a,d)) #Create stacked column wise arrays"
   ]
  },
  {
   "cell_type": "code",
   "execution_count": 49,
   "id": "15909652",
   "metadata": {},
   "outputs": [
    {
     "data": {
      "text/plain": [
       "array([[ 1, 10],\n",
       "       [ 2, 15],\n",
       "       [ 3, 20]])"
      ]
     },
     "execution_count": 49,
     "metadata": {},
     "output_type": "execute_result"
    }
   ],
   "source": [
    "np.c_[a,d] #Create stacked column wise arrays"
   ]
  },
  {
   "cell_type": "markdown",
   "id": "c8de93fe",
   "metadata": {},
   "source": [
    "# Splitting Arrays \n",
    "\n"
   ]
  },
  {
   "cell_type": "code",
   "execution_count": 51,
   "id": "b0d08e29",
   "metadata": {},
   "outputs": [
    {
     "data": {
      "text/plain": [
       "[array([1]), array([2]), array([3])]"
      ]
     },
     "execution_count": 51,
     "metadata": {},
     "output_type": "execute_result"
    }
   ],
   "source": [
    "np.hsplit(a,3) #Split the array horizontally at the 3rd index"
   ]
  },
  {
   "cell_type": "code",
   "execution_count": 52,
   "id": "25702b73",
   "metadata": {},
   "outputs": [
    {
     "data": {
      "text/plain": [
       "[array([[[1.5, 2. , 1. ],\n",
       "         [4. , 5. , 6. ]]]),\n",
       " array([[[3., 2., 3.],\n",
       "         [4., 5., 6.]]])]"
      ]
     },
     "execution_count": 52,
     "metadata": {},
     "output_type": "execute_result"
    }
   ],
   "source": [
    "np.vsplit(c,2) #Split the array vertically at the 2nd index"
   ]
  },
  {
   "cell_type": "code",
   "execution_count": null,
   "id": "8b8e87b3",
   "metadata": {},
   "outputs": [],
   "source": []
  }
 ],
 "metadata": {
  "kernelspec": {
   "display_name": "Python 3 (ipykernel)",
   "language": "python",
   "name": "python3"
  },
  "language_info": {
   "codemirror_mode": {
    "name": "ipython",
    "version": 3
   },
   "file_extension": ".py",
   "mimetype": "text/x-python",
   "name": "python",
   "nbconvert_exporter": "python",
   "pygments_lexer": "ipython3",
   "version": "3.9.7"
  }
 },
 "nbformat": 4,
 "nbformat_minor": 5
}
